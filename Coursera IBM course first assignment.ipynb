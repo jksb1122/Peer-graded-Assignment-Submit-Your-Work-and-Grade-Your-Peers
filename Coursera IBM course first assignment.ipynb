{
 "cells": [
  {
   "cell_type": "markdown",
   "id": "6b5d5c2f",
   "metadata": {},
   "source": [
    "# My First Jupyter Assignment"
   ]
  },
  {
   "cell_type": "markdown",
   "id": "f1db85a9",
   "metadata": {},
   "source": [
    "## Welcome to JK's Jupyter File"
   ]
  },
  {
   "cell_type": "markdown",
   "id": "30f2e37e",
   "metadata": {},
   "source": [
    "### Data Science posseses many languages such as Python, R, C++, Java, etc."
   ]
  },
  {
   "cell_type": "markdown",
   "id": "efb5d400",
   "metadata": {},
   "source": [
    "### Data Science has libraries such as Scikit-learn, TensorFlow, Pytorch and many more!"
   ]
  },
  {
   "cell_type": "markdown",
   "id": "7b59b916",
   "metadata": {},
   "source": [
    "|      | Data Science Tools |       |\n",
    "| --- | --- | --- |\n",
    "| Matlab | Rstudio | Jupyter |"
   ]
  },
  {
   "cell_type": "markdown",
   "id": "cb37fbb3",
   "metadata": {},
   "source": [
    "#### Below are some examples of arithmetic expressions"
   ]
  },
  {
   "cell_type": "code",
   "execution_count": 10,
   "id": "586b76f1",
   "metadata": {},
   "outputs": [
    {
     "data": {
      "text/plain": [
       "10"
      ]
     },
     "execution_count": 10,
     "metadata": {},
     "output_type": "execute_result"
    }
   ],
   "source": [
    "5*3-5"
   ]
  },
  {
   "cell_type": "code",
   "execution_count": 15,
   "id": "4752e895",
   "metadata": {},
   "outputs": [
    {
     "ename": "NameError",
     "evalue": "name 'x' is not defined",
     "output_type": "error",
     "traceback": [
      "\u001b[1;31m---------------------------------------------------------------------------\u001b[0m",
      "\u001b[1;31mNameError\u001b[0m                                 Traceback (most recent call last)",
      "Cell \u001b[1;32mIn[15], line 1\u001b[0m\n\u001b[1;32m----> 1\u001b[0m \u001b[43mx\u001b[49m \u001b[38;5;241m<\u001b[39m\u001b[38;5;241m-\u001b[39m minute\n\u001b[0;32m      2\u001b[0m y \u001b[38;5;241m<\u001b[39m\u001b[38;5;241m-\u001b[39m hour\n\u001b[0;32m      3\u001b[0m \u001b[38;5;241m60\u001b[39m\u001b[38;5;241m*\u001b[39mx \u001b[38;5;241m<\u001b[39m\u001b[38;5;241m-\u001b[39m y\n",
      "\u001b[1;31mNameError\u001b[0m: name 'x' is not defined"
     ]
    }
   ],
   "source": [
    "x <- minute\n",
    "y <- hour\n",
    "60*x <- y"
   ]
  },
  {
   "cell_type": "markdown",
   "id": "606956e1",
   "metadata": {},
   "source": [
    "#### Objectives are\n",
    "- Introduction to Jupyter and Python for Data Science\n",
    "- Utilization of Jupyter Notebook\n",
    "- Sample creations"
   ]
  },
  {
   "cell_type": "markdown",
   "id": "6b9420b5",
   "metadata": {},
   "source": [
    "##### Created by JK"
   ]
  },
  {
   "cell_type": "code",
   "execution_count": null,
   "id": "b91901dd",
   "metadata": {},
   "outputs": [],
   "source": []
  }
 ],
 "metadata": {
  "kernelspec": {
   "display_name": "Python 3 (ipykernel)",
   "language": "python",
   "name": "python3"
  },
  "language_info": {
   "codemirror_mode": {
    "name": "ipython",
    "version": 3
   },
   "file_extension": ".py",
   "mimetype": "text/x-python",
   "name": "python",
   "nbconvert_exporter": "python",
   "pygments_lexer": "ipython3",
   "version": "3.10.9"
  }
 },
 "nbformat": 4,
 "nbformat_minor": 5
}
